{
 "cells": [
  {
   "cell_type": "code",
   "execution_count": null,
   "metadata": {},
   "outputs": [],
   "source": [
    "import sqlite3 as sql3\n",
    "import pandas as pd\n",
    "import matplotlib.pyplot as plt\n",
    "import numpy as np\n",
    "from pandas import DataFrame\n",
    "\n",
    "%load_ext sql"
   ]
  },
  {
   "cell_type": "code",
   "execution_count": null,
   "metadata": {},
   "outputs": [],
   "source": [
    "conn = sql3.connect('data/prtr_en.db')"
   ]
  },
  {
   "cell_type": "code",
   "execution_count": null,
   "metadata": {},
   "outputs": [],
   "source": [
    "cursor = conn.execute('')"
   ]
  },
  {
   "cell_type": "markdown",
   "metadata": {},
   "source": [
    "### precondition 1 - to retrieve data for air pollutants compartment 'air' has to be set"
   ]
  },
  {
   "cell_type": "code",
   "execution_count": null,
   "metadata": {},
   "outputs": [],
   "source": [
    "# example:"
   ]
  },
  {
   "cell_type": "code",
   "execution_count": null,
   "metadata": {},
   "outputs": [],
   "source": [
    "SELECT substance_name, annual_load/1000000 AS \"annual_load/1000000\" FROM releases, activities\n",
    "WHERE substance_name = 'Nitrogen oxides (NOx/NO2)' AND releases.year = 2018 AND business_sector = 'Chemical industry'\n",
    "AND compartment = \"Air\" \n",
    "ORDER BY annual_load"
   ]
  },
  {
   "cell_type": "markdown",
   "metadata": {},
   "source": [
    "### precondition 2 - facilities.year == releases.year for all joins on facilities.id"
   ]
  },
  {
   "cell_type": "code",
   "execution_count": null,
   "metadata": {},
   "outputs": [],
   "source": [
    "# the year in the table facilities should be the same as in the table releases\n",
    "# example - the following two queries should have the same results:\n",
    "\n",
    "SELECT NAME, facilities.YEAR\n",
    "FROM facilities\n",
    "    JOIN releases ON facilities.id = releases.facility_ID\n",
    "    JOIN activities ON releases.facility_ID = activities.facility_ID\n",
    "ORDER BY name\n",
    "\n",
    "\n",
    "SELECT NAME, releases.YEAR\n",
    "FROM facilities\n",
    "    JOIN releases ON facilities.id = releases.facility_ID\n",
    "    JOIN activities ON releases.facility_ID = activities.facility_ID\n",
    "ORDER BY name"
   ]
  },
  {
   "cell_type": "markdown",
   "metadata": {},
   "source": [
    "### precondition 3 - all substance names are correctly register, no misspellings"
   ]
  },
  {
   "cell_type": "code",
   "execution_count": null,
   "metadata": {},
   "outputs": [],
   "source": [
    "# the substance_names are:\n",
    "'''\n",
    "substance_names:\n",
    "\n",
    "Nitrogen oxides (NOx/NO2)\n",
    "Non-methane volatile organic compounds (NMVOC)\n",
    "Sulphur oxides (SOx/SO2)\n",
    "Ammonia (NH3)\n",
    "Particulate matter (PM2.5)\n",
    "Particulate matter (PM10)\n",
    "Carbon monoxide (CO)\n",
    "Lead and compounds (as Pb)\n",
    "Cadmium and compounds (as Cd)\n",
    "Mercury and compounds (as Hg)\n",
    "PCDD + PCDF (dioxins + furans)(as Teq)\n",
    "Polycyclic aromatic hydrocarbons (PAHs)\n",
    "Hexachlorobenzene (HCB)\n",
    "Polychlorinated biphenyls (PCBs)\n",
    "'''"
   ]
  },
  {
   "cell_type": "markdown",
   "metadata": {},
   "source": [
    "### preconditon 4 - depending on the data type (TEXT) in the database, parentheses '' must be used for data queries"
   ]
  },
  {
   "cell_type": "code",
   "execution_count": null,
   "metadata": {},
   "outputs": [],
   "source": [
    "# example:\n",
    "\n",
    "business_sector = 'Chemical industry'\n",
    "name = 'afu GmbH'\n",
    "substance_name = 'Nitrogen oxides (NOx/NO2)'"
   ]
  },
  {
   "cell_type": "markdown",
   "metadata": {},
   "source": [
    "### precondition 5 - all release annual load given in kg"
   ]
  },
  {
   "cell_type": "code",
   "execution_count": null,
   "metadata": {},
   "outputs": [],
   "source": [
    "# annual_load can be converted to t as follows:\n",
    "\n",
    "annual_load/1000\n",
    "\n",
    "# annual_load can be converted to kt as follows:\n",
    "\n",
    "annual_load/1000000"
   ]
  },
  {
   "cell_type": "markdown",
   "metadata": {},
   "source": [
    "### precondition 6 - GROUP BY facilities_id and main_activity = 1"
   ]
  },
  {
   "cell_type": "code",
   "execution_count": null,
   "metadata": {},
   "outputs": [],
   "source": [
    "# when filtering for the LPS and the associated further data, the GROUP BY statement must be used for the facilities_id \n",
    "# and main_activity=1 in order to avoid double output of the LPS"
   ]
  },
  {
   "cell_type": "code",
   "execution_count": null,
   "metadata": {},
   "outputs": [],
   "source": [
    "%%sql sqlite:///data/prtr_en.db sql_query_result << \n",
    "\n",
    "SELECT \n",
    "    facilities.name AS LPS, \n",
    "    activities.business_sector AS business_sector, \n",
    "    activities.prtr_key AS 'PRTR activity',\n",
    "    nace_code || ': ' || nace_text AS 'NACE',\n",
    "    activities.prtr_key AS 'GNFR', \n",
    "    facilities.administrative_number AS 'E-PRTR/PRTR Facility ID', \n",
    "    'TODO' AS 'Height class',\n",
    "    facilities.wgs84_x AS 'Longitude (deg)', \n",
    "    facilities.wgs84_y AS 'Latitude (deg)',\n",
    "\n",
    "    SUM(releases.annual_load/1000000) FILTER (WHERE substance_name = 'Nitrogen oxides (NOx/NO2)') AS \"NOx (as NO2) (kt)\",\n",
    "    SUM(releases.annual_load/1000000) FILTER (WHERE substance_name = 'Non-methane volatile organic compounds (NMVOC)') \n",
    "    AS \"NMVOC (kt)\",\n",
    "    SUM(releases.annual_load/1000000) FILTER (WHERE substance_name = 'Sulphur oxides (SOx/SO2)') AS \"SOx (as SO2) (kt)\",\n",
    "    SUM(releases.annual_load/1000000) FILTER (WHERE substance_name = 'Ammonia (NH3)') AS \"NH3 (kt)\",\n",
    "    SUM(releases.annual_load/1000000) FILTER (WHERE substance_name = 'Particulate matter (PM2.5)') AS \"PM2.5 (kt)\",\n",
    "    SUM(releases.annual_load/1000000) FILTER (WHERE substance_name = 'Particulate matter (PM10)') AS \"PM10 (kt)\",\n",
    "    SUM(releases.annual_load/1000000) FILTER (WHERE substance_name = 'Carbon monoxide (CO)') AS \"CO (kt)\",\n",
    "    SUM(releases.annual_load/1000) FILTER (WHERE substance_name = 'Lead and compounds (as Pb)') AS \"Pb (t)\",\n",
    "    SUM(releases.annual_load/1000) FILTER (WHERE substance_name = 'Cadmium and compounds (as Cd)') AS \"Cd (t)\",\n",
    "    SUM(releases.annual_load/1000) FILTER (WHERE substance_name = 'Mercury and compounds (as Hg)') AS \"Hg (t)\",\n",
    "    SUM(releases.annual_load*1000) FILTER (WHERE substance_name = 'PCDD + PCDF (dioxins + furans)(as Teq)') \n",
    "    AS \"PCDD/ PCDF (dioxins/ furans)(g I-Teq)\",\n",
    "    SUM(releases.annual_load/1000) FILTER (WHERE substance_name = 'Polycyclic aromatic hydrocarbons (PAHs)') AS \"PAHs (t)\",\n",
    "    SUM(releases.annual_load) FILTER (WHERE substance_name = 'Hexachlorobenzene (HCB)') AS \"HCB (kg)\",\n",
    "    SUM(releases.annual_load) FILTER (WHERE substance_name = 'Polychlorinated biphenyls') AS \"PCBs (kg)\"\n",
    "\n",
    "FROM facilities\n",
    "    JOIN releases ON facilities.id = releases.facility_ID\n",
    "    JOIN activities ON releases.facility_ID = activities.facility_ID\n",
    "\n",
    "WHERE facilities.year = :year AND releases.compartment = 'Air' AND activities.main_activity = 1\n",
    "GROUP BY facilities.id\n",
    "ORDER BY name"
   ]
  },
  {
   "cell_type": "markdown",
   "metadata": {},
   "source": [
    "### precondition 7 - to use '.' and not ',' when filtering by data with datatype REAL  "
   ]
  },
  {
   "cell_type": "code",
   "execution_count": null,
   "metadata": {},
   "outputs": [],
   "source": [
    "# this is the case, for example, with wgs84_x and wgs84_y and with annual_load\n",
    "# example:\n",
    "\n",
    "SELECT wgs84_x, name\n",
    "FROM facilities\n",
    "WHERE wgs84_x BETWEEN 6.0 AND 6.5"
   ]
  }
 ],
 "metadata": {
  "kernelspec": {
   "display_name": "Python 3",
   "language": "python",
   "name": "python3"
  },
  "language_info": {
   "codemirror_mode": {
    "name": "ipython",
    "version": 3
   },
   "file_extension": ".py",
   "mimetype": "text/x-python",
   "name": "python",
   "nbconvert_exporter": "python",
   "pygments_lexer": "ipython3",
   "version": "3.8.5"
  }
 },
 "nbformat": 4,
 "nbformat_minor": 4
}
