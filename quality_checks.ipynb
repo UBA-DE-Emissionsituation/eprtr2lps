{
 "cells": [
  {
   "cell_type": "code",
   "execution_count": null,
   "metadata": {},
   "outputs": [],
   "source": [
    "import sqlite3 as sql3\n",
    "import pandas as pd\n",
    "import matplotlib.pyplot as plt\n",
    "import numpy as np\n",
    "from pandas import DataFrame\n",
    "import xlsxwriter\n",
    "\n",
    "%load_ext sql"
   ]
  },
  {
   "cell_type": "code",
   "execution_count": null,
   "metadata": {},
   "outputs": [],
   "source": [
    "conn = sql3.connect('data/prtr_en.db')"
   ]
  },
  {
   "cell_type": "code",
   "execution_count": null,
   "metadata": {},
   "outputs": [],
   "source": [
    "cursor = conn.execute('')"
   ]
  },
  {
   "cell_type": "code",
   "execution_count": null,
   "metadata": {},
   "outputs": [],
   "source": [
    "df = pd.read_excel(\"issues\\eprtr2lps_issues.xlsx\", index_col = 0)\n",
    "pd.set_option('display.max_colwidth', 80)\n",
    "pd.DataFrame(df)\n",
    "df = df.fillna(\"\")\n",
    "df = df.style.set_properties(**{'text-align': 'left'})\n",
    "df"
   ]
  },
  {
   "cell_type": "markdown",
   "metadata": {},
   "source": [
    "### Quality check #1 - Total lps emissions < national total"
   ]
  },
  {
   "cell_type": "code",
   "execution_count": null,
   "metadata": {},
   "outputs": [],
   "source": [
    "''' \\\n",
    "Steps: \\\n",
    "1. to sum all the lps emissions (for each substance_name) \\\n",
    "2. compare it with the national total amount of each substance with values from trend-tables \\\n",
    "'''"
   ]
  },
  {
   "cell_type": "code",
   "execution_count": null,
   "metadata": {},
   "outputs": [],
   "source": [
    "'''\n",
    "substance_names:\n",
    "Nitrogen oxides (NOx/NO2)\n",
    "Non-methane volatile organic compounds (NMVOC)\n",
    "Sulphur oxides (SOx/SO2)\n",
    "Ammonia (NH3)\n",
    "Particulate matter (PM2.5)\n",
    "Particulate matter (PM10)\n",
    "Carbon monoxide (CO)\n",
    "Lead and compounds (as Pb)\n",
    "Cadmium and compounds (as Cd)\n",
    "Mercury and compounds (as Hg)\n",
    "PCDD + PCDF (dioxins + furans)(as Teq)\n",
    "Polycyclic aromatic hydrocarbons (PAHs)\n",
    "Hexachlorobenzene (HCB)\n",
    "Polychlorinated biphenyls (PCBs)\n",
    "'''"
   ]
  },
  {
   "cell_type": "code",
   "execution_count": null,
   "metadata": {},
   "outputs": [],
   "source": [
    "year = '2018'"
   ]
  },
  {
   "cell_type": "code",
   "execution_count": null,
   "metadata": {},
   "outputs": [],
   "source": [
    "substance_name = 'Polychlorinated biphenyls (PCBs)'"
   ]
  },
  {
   "cell_type": "code",
   "execution_count": null,
   "metadata": {},
   "outputs": [],
   "source": [
    "%%sql sqlite:///data/prtr_en.db test_1_PCBs <<\n",
    "    SELECT substance_name, SUM(annual_load)/1000000 AS \"SUM(in kt/a)\" FROM releases\n",
    "    WHERE substance_name = :substance_name AND year = :year"
   ]
  },
  {
   "cell_type": "code",
   "execution_count": null,
   "metadata": {},
   "outputs": [],
   "source": [
    "test_1_NOx"
   ]
  },
  {
   "cell_type": "code",
   "execution_count": null,
   "metadata": {},
   "outputs": [],
   "source": [
    "test_1_NMVOC"
   ]
  },
  {
   "cell_type": "code",
   "execution_count": null,
   "metadata": {},
   "outputs": [],
   "source": [
    "test_1_SOx"
   ]
  },
  {
   "cell_type": "code",
   "execution_count": null,
   "metadata": {},
   "outputs": [],
   "source": [
    "test_1_NH3"
   ]
  },
  {
   "cell_type": "code",
   "execution_count": null,
   "metadata": {},
   "outputs": [],
   "source": [
    "test_1_PM2_5"
   ]
  },
  {
   "cell_type": "code",
   "execution_count": null,
   "metadata": {},
   "outputs": [],
   "source": [
    "test_1_PM10"
   ]
  },
  {
   "cell_type": "code",
   "execution_count": null,
   "metadata": {},
   "outputs": [],
   "source": [
    "test_1_CO"
   ]
  },
  {
   "cell_type": "code",
   "execution_count": null,
   "metadata": {},
   "outputs": [],
   "source": [
    "test_1_Pb"
   ]
  },
  {
   "cell_type": "code",
   "execution_count": null,
   "metadata": {},
   "outputs": [],
   "source": [
    "test_1_Cd"
   ]
  },
  {
   "cell_type": "code",
   "execution_count": null,
   "metadata": {},
   "outputs": [],
   "source": [
    "test_1_Hg"
   ]
  },
  {
   "cell_type": "code",
   "execution_count": null,
   "metadata": {},
   "outputs": [],
   "source": [
    "test_1_Teq"
   ]
  },
  {
   "cell_type": "code",
   "execution_count": null,
   "metadata": {},
   "outputs": [],
   "source": [
    "test_1_PAHs"
   ]
  },
  {
   "cell_type": "code",
   "execution_count": null,
   "metadata": {},
   "outputs": [],
   "source": [
    "test_1_HCB"
   ]
  },
  {
   "cell_type": "code",
   "execution_count": null,
   "metadata": {},
   "outputs": [],
   "source": [
    "test_1_PCBs"
   ]
  },
  {
   "cell_type": "code",
   "execution_count": null,
   "metadata": {},
   "outputs": [],
   "source": [
    "df_1 = test_1_NOx.DataFrame()\n",
    "df_2 = test_1_NMVOC.DataFrame()\n",
    "df_3 = test_1_SOx.DataFrame()\n",
    "df_4 = test_1_NH3.DataFrame()\n",
    "df_5 = test_1_PM2_5.DataFrame()\n",
    "df_6 = test_1_PM10.DataFrame()\n",
    "df_7 = test_1_CO.DataFrame()\n",
    "df_8 = test_1_Pb.DataFrame()\n",
    "df_9 = test_1_Cd.DataFrame()\n",
    "df_10 = test_1_Hg.DataFrame()\n",
    "df_11 = test_1_Teq.DataFrame()\n",
    "df_12 = test_1_PAHs.DataFrame()\n",
    "df_13 = test_1_HCB.DataFrame()\n",
    "df_14 = test_1_PCBs.DataFrame()"
   ]
  },
  {
   "cell_type": "code",
   "execution_count": null,
   "metadata": {},
   "outputs": [],
   "source": [
    "df = pd.concat([df_1, df_2, df_3, df_4, df_5, df_6, df_7, df_8, df_9, df_10, df_11, df_12, df_13, df_14])\n",
    "df"
   ]
  },
  {
   "cell_type": "code",
   "execution_count": null,
   "metadata": {},
   "outputs": [],
   "source": [
    "df.reset_index(drop=True, inplace=True)\n",
    "df"
   ]
  },
  {
   "cell_type": "code",
   "execution_count": null,
   "metadata": {},
   "outputs": [],
   "source": [
    "df.drop([4,10,13])\n",
    "df"
   ]
  },
  {
   "cell_type": "code",
   "execution_count": null,
   "metadata": {},
   "outputs": [],
   "source": [
    "df.to_csv(\"quality_check_1_2018.csv\")"
   ]
  },
  {
   "cell_type": "markdown",
   "metadata": {},
   "source": [
    "### Quality check #3 - unit mistakes "
   ]
  },
  {
   "cell_type": "code",
   "execution_count": null,
   "metadata": {},
   "outputs": [],
   "source": [
    "'''\n",
    "With the describe function you get position parameters for the box plot diagram \n",
    "and so upper outliers and lower outliers can be determined. \n",
    "This can be done for every substance_name, for every year and for every business_sector\n",
    "'''"
   ]
  },
  {
   "cell_type": "code",
   "execution_count": null,
   "metadata": {},
   "outputs": [],
   "source": [
    "'''\n",
    "substance_names:\n",
    "\n",
    "Nitrogen oxides (NOx/NO2)\n",
    "Non-methane volatile organic compounds (NMVOC)\n",
    "Sulphur oxides (SOx/SO2)\n",
    "Ammonia (NH3)\n",
    "Particulate matter (PM2.5)\n",
    "Particulate matter (PM10)\n",
    "Carbon monoxide (CO)\n",
    "Lead and compounds (as Pb)\n",
    "Cadmium and compounds (as Cd)\n",
    "Mercury and compounds (as Hg)\n",
    "PCDD + PCDF (dioxins + furans)(as Teq)\n",
    "Polycyclic aromatic hydrocarbons (PAHs)\n",
    "Hexachlorobenzene (HCB)\n",
    "Polychlorinated biphenyls (PCBs)\n",
    "'''"
   ]
  },
  {
   "cell_type": "code",
   "execution_count": null,
   "metadata": {},
   "outputs": [],
   "source": [
    "'''\n",
    "business_sectors:\n",
    "\n",
    "Chemical industry\n",
    "Energy sector\n",
    "Food industry\n",
    "Intensive livestock production and aquaculture\n",
    "Metal industry\n",
    "Mineral industry\n",
    "Other industry\n",
    "Paper- and wood industry\n",
    "Waste and waste water management\n",
    "'''"
   ]
  },
  {
   "cell_type": "code",
   "execution_count": null,
   "metadata": {},
   "outputs": [],
   "source": [
    "year = '2018'"
   ]
  },
  {
   "cell_type": "code",
   "execution_count": null,
   "metadata": {},
   "outputs": [],
   "source": [
    "substance_name = 'Particulate matter (PM10)'"
   ]
  },
  {
   "cell_type": "code",
   "execution_count": null,
   "metadata": {},
   "outputs": [],
   "source": [
    "business_sector = 'Chemical industry'"
   ]
  },
  {
   "cell_type": "code",
   "execution_count": null,
   "metadata": {},
   "outputs": [],
   "source": [
    "%%sql sqlite:///data/prtr_en.db test_3_PM10 <<\n",
    "    SELECT substance_name, annual_load/1000000 AS \"annual_load/1000000\" FROM releases, activities\n",
    "    WHERE substance_name = :substance_name AND releases.year = :year AND business_sector = :business_sector \n",
    "    AND compartment = \"Air\" \n",
    "    ORDER BY annual_load"
   ]
  },
  {
   "cell_type": "code",
   "execution_count": null,
   "metadata": {
    "scrolled": true
   },
   "outputs": [],
   "source": [
    "test_3_NOx = test_3_NOx.DataFrame()\n",
    "test_3_NOx"
   ]
  },
  {
   "cell_type": "code",
   "execution_count": null,
   "metadata": {},
   "outputs": [],
   "source": [
    "test_3_NOx.describe()"
   ]
  },
  {
   "cell_type": "code",
   "execution_count": null,
   "metadata": {},
   "outputs": [],
   "source": [
    "# interquartile range: 75% value - 25% value"
   ]
  },
  {
   "cell_type": "code",
   "execution_count": null,
   "metadata": {},
   "outputs": [],
   "source": [
    "# example with NOx:"
   ]
  },
  {
   "cell_type": "code",
   "execution_count": null,
   "metadata": {},
   "outputs": [],
   "source": [
    "4.990000e-01 - 1.400000e-01"
   ]
  },
  {
   "cell_type": "code",
   "execution_count": null,
   "metadata": {},
   "outputs": [],
   "source": [
    "# lower outlier: 25% - 1,5 * interquartile range"
   ]
  },
  {
   "cell_type": "code",
   "execution_count": null,
   "metadata": {},
   "outputs": [],
   "source": [
    "1.400000e-01 - 1.5*0.359"
   ]
  },
  {
   "cell_type": "code",
   "execution_count": null,
   "metadata": {},
   "outputs": [],
   "source": [
    "# upper outliers: 75% + 1,5 * interquartile range"
   ]
  },
  {
   "cell_type": "code",
   "execution_count": null,
   "metadata": {},
   "outputs": [],
   "source": [
    "4.990000e-01 + 1.5*0.359"
   ]
  },
  {
   "cell_type": "code",
   "execution_count": null,
   "metadata": {},
   "outputs": [],
   "source": [
    "test_3_NOx.plot()"
   ]
  },
  {
   "cell_type": "code",
   "execution_count": null,
   "metadata": {},
   "outputs": [],
   "source": [
    "test_3_NOx.boxplot()"
   ]
  },
  {
   "cell_type": "code",
   "execution_count": null,
   "metadata": {},
   "outputs": [],
   "source": [
    "%%sql sqlite:///data/prtr_en.db NOx_outlier <<\n",
    "    SELECT substance_name, annual_load/1000000 AS \"annual_load/1000000\" FROM releases, activities\n",
    "    WHERE (substance_name = 'Nitrogen oxides (NOx/NO2)' AND annual_load/1000000 > 1.0375) AND releases.year = 2018 AND business_sector = 'Chemical industry'\n",
    "    AND compartment = \"Air\" \n",
    "    GROUP BY annual_load/1000000\n",
    "    ORDER BY annual_load/1000000"
   ]
  },
  {
   "cell_type": "code",
   "execution_count": null,
   "metadata": {},
   "outputs": [],
   "source": [
    "NOx_outlier"
   ]
  },
  {
   "cell_type": "code",
   "execution_count": null,
   "metadata": {},
   "outputs": [],
   "source": [
    "test_3_NMVOC = test_3_NMVOC.DataFrame()\n",
    "test_3_NMVOC"
   ]
  },
  {
   "cell_type": "code",
   "execution_count": null,
   "metadata": {},
   "outputs": [],
   "source": [
    "test_3_NMVOC.describe()"
   ]
  },
  {
   "cell_type": "code",
   "execution_count": null,
   "metadata": {},
   "outputs": [],
   "source": [
    "NMVOC_outlier"
   ]
  },
  {
   "cell_type": "code",
   "execution_count": null,
   "metadata": {},
   "outputs": [],
   "source": [
    "test_3_NMVOC.plot()"
   ]
  },
  {
   "cell_type": "code",
   "execution_count": null,
   "metadata": {
    "scrolled": true
   },
   "outputs": [],
   "source": [
    "test_3_NMVOC.boxplot()"
   ]
  },
  {
   "cell_type": "code",
   "execution_count": null,
   "metadata": {},
   "outputs": [],
   "source": [
    "test_3_SOx = test_3_SOx.DataFrame()\n",
    "test_3_SOx"
   ]
  },
  {
   "cell_type": "code",
   "execution_count": null,
   "metadata": {},
   "outputs": [],
   "source": [
    "test_3_SOx.describe()"
   ]
  },
  {
   "cell_type": "code",
   "execution_count": null,
   "metadata": {},
   "outputs": [],
   "source": [
    "SOx_outlier"
   ]
  },
  {
   "cell_type": "code",
   "execution_count": null,
   "metadata": {},
   "outputs": [],
   "source": [
    "test_3_SOx.plot()"
   ]
  },
  {
   "cell_type": "code",
   "execution_count": null,
   "metadata": {},
   "outputs": [],
   "source": [
    "test_3_SOx.boxplot()"
   ]
  },
  {
   "cell_type": "code",
   "execution_count": null,
   "metadata": {},
   "outputs": [],
   "source": [
    "test_3_NH3 = test_3_NH3.DataFrame()\n",
    "test_3_NH3"
   ]
  },
  {
   "cell_type": "code",
   "execution_count": null,
   "metadata": {},
   "outputs": [],
   "source": [
    "test_3_NH3.describe()"
   ]
  },
  {
   "cell_type": "code",
   "execution_count": null,
   "metadata": {},
   "outputs": [],
   "source": [
    "test_3_NH3.plot()"
   ]
  },
  {
   "cell_type": "code",
   "execution_count": null,
   "metadata": {},
   "outputs": [],
   "source": [
    "test_3_NH3.boxplot()"
   ]
  },
  {
   "cell_type": "code",
   "execution_count": null,
   "metadata": {},
   "outputs": [],
   "source": [
    "test_3_PM2_5 = test_3_PM2_5.DataFrame()\n",
    "test_3_PM2_5"
   ]
  },
  {
   "cell_type": "code",
   "execution_count": null,
   "metadata": {},
   "outputs": [],
   "source": [
    "test_3_PM10 = test_3_PM10.DataFrame()\n",
    "test_3_PM10"
   ]
  },
  {
   "cell_type": "code",
   "execution_count": null,
   "metadata": {},
   "outputs": [],
   "source": [
    "test_3_PM10.describe()"
   ]
  },
  {
   "cell_type": "code",
   "execution_count": null,
   "metadata": {},
   "outputs": [],
   "source": [
    "test_3_PM10.plot()"
   ]
  },
  {
   "cell_type": "code",
   "execution_count": null,
   "metadata": {},
   "outputs": [],
   "source": [
    "test_3_PM10.boxplot()"
   ]
  },
  {
   "cell_type": "code",
   "execution_count": null,
   "metadata": {},
   "outputs": [],
   "source": [
    "test_3_CO = test_3_CO.DataFrame()\n",
    "test_3_CO"
   ]
  },
  {
   "cell_type": "code",
   "execution_count": null,
   "metadata": {},
   "outputs": [],
   "source": [
    "test_3_CO.describe()"
   ]
  },
  {
   "cell_type": "code",
   "execution_count": null,
   "metadata": {},
   "outputs": [],
   "source": [
    "test_3_CO.plot()"
   ]
  },
  {
   "cell_type": "code",
   "execution_count": null,
   "metadata": {},
   "outputs": [],
   "source": [
    "test_3_CO.boxplot()"
   ]
  },
  {
   "cell_type": "code",
   "execution_count": null,
   "metadata": {},
   "outputs": [],
   "source": [
    "test_3_Pb = test_3_Pb.DataFrame()\n",
    "test_3_Pb"
   ]
  },
  {
   "cell_type": "code",
   "execution_count": null,
   "metadata": {},
   "outputs": [],
   "source": [
    "test_3_Pb.describe()"
   ]
  },
  {
   "cell_type": "code",
   "execution_count": null,
   "metadata": {},
   "outputs": [],
   "source": [
    "test_3_Pb.plot()"
   ]
  },
  {
   "cell_type": "code",
   "execution_count": null,
   "metadata": {},
   "outputs": [],
   "source": [
    "test_3_Pb.boxplot()"
   ]
  },
  {
   "cell_type": "code",
   "execution_count": null,
   "metadata": {},
   "outputs": [],
   "source": [
    "test_3_Cd = test_3_Cd.DataFrame()\n",
    "test_3_Cd"
   ]
  },
  {
   "cell_type": "code",
   "execution_count": null,
   "metadata": {},
   "outputs": [],
   "source": [
    "test_3_Cd.describe()"
   ]
  },
  {
   "cell_type": "code",
   "execution_count": null,
   "metadata": {},
   "outputs": [],
   "source": [
    "test_3_Cd.plot()"
   ]
  },
  {
   "cell_type": "code",
   "execution_count": null,
   "metadata": {},
   "outputs": [],
   "source": [
    "test_3_Cd.boxplot()"
   ]
  },
  {
   "cell_type": "code",
   "execution_count": null,
   "metadata": {},
   "outputs": [],
   "source": [
    "test_3_Hg = test_3_Hg.DataFrame()\n",
    "test_3_Hg"
   ]
  },
  {
   "cell_type": "code",
   "execution_count": null,
   "metadata": {},
   "outputs": [],
   "source": [
    "test_3_Hg.describe()"
   ]
  },
  {
   "cell_type": "code",
   "execution_count": null,
   "metadata": {},
   "outputs": [],
   "source": [
    "test_3_Hg.plot()"
   ]
  },
  {
   "cell_type": "code",
   "execution_count": null,
   "metadata": {},
   "outputs": [],
   "source": [
    "test_3_Hg.boxplot()"
   ]
  },
  {
   "cell_type": "code",
   "execution_count": null,
   "metadata": {},
   "outputs": [],
   "source": [
    "test_3_Teq = test_3_Teq.DataFrame()\n",
    "test_3_Teq"
   ]
  },
  {
   "cell_type": "code",
   "execution_count": null,
   "metadata": {},
   "outputs": [],
   "source": [
    "test_3_PAHs = test_3_PAHs.DataFrame()\n",
    "test_3_PAHs"
   ]
  },
  {
   "cell_type": "code",
   "execution_count": null,
   "metadata": {},
   "outputs": [],
   "source": [
    "test_3_PAHs.describe()"
   ]
  },
  {
   "cell_type": "code",
   "execution_count": null,
   "metadata": {},
   "outputs": [],
   "source": [
    "test_3_PAHs.plot()"
   ]
  },
  {
   "cell_type": "code",
   "execution_count": null,
   "metadata": {},
   "outputs": [],
   "source": [
    "test_3_PAHs.boxplot()"
   ]
  },
  {
   "cell_type": "code",
   "execution_count": null,
   "metadata": {},
   "outputs": [],
   "source": [
    "test_3_HCB = test_3_HCB.DataFrame()\n",
    "test_3_HCB"
   ]
  },
  {
   "cell_type": "code",
   "execution_count": null,
   "metadata": {},
   "outputs": [],
   "source": [
    "test_3_PCBs = test_3_PCBs.DataFrame()\n",
    "test_3_PCBs"
   ]
  },
  {
   "cell_type": "code",
   "execution_count": null,
   "metadata": {},
   "outputs": [],
   "source": [
    "test_3_PCBs.describe()"
   ]
  },
  {
   "cell_type": "code",
   "execution_count": null,
   "metadata": {},
   "outputs": [],
   "source": [
    "test_3_PCBs.plot()"
   ]
  },
  {
   "cell_type": "code",
   "execution_count": null,
   "metadata": {},
   "outputs": [],
   "source": [
    "test_3_PCBs.boxplot()"
   ]
  },
  {
   "cell_type": "markdown",
   "metadata": {},
   "source": [
    "### Quality check #4 - ID's, stack heights, GNFR  and coordinates shouldn't be empty"
   ]
  },
  {
   "cell_type": "code",
   "execution_count": null,
   "metadata": {},
   "outputs": [],
   "source": [
    "'''\n",
    "it can be queried from the database if one of the values \n",
    "(id, business_sector, prtr_key, administrative_number, coordinates, etc.) is 0 or empty\n",
    "'''"
   ]
  },
  {
   "cell_type": "code",
   "execution_count": null,
   "metadata": {},
   "outputs": [],
   "source": [
    "%%sql sqlite:///data/prtr_en.db test_4 <<\n",
    "    SELECT wgs84_x, wgs84_y, administrative_number, id\n",
    "    FROM facilities \n",
    "    WHERE wgs84_x = 0 OR wgs84_y = 0 OR administrative_number = 0 OR id = 0"
   ]
  },
  {
   "cell_type": "code",
   "execution_count": null,
   "metadata": {},
   "outputs": [],
   "source": [
    "test_4"
   ]
  },
  {
   "cell_type": "code",
   "execution_count": null,
   "metadata": {},
   "outputs": [],
   "source": [
    "# this can be done for the GNFR and stack heights"
   ]
  },
  {
   "cell_type": "markdown",
   "metadata": {},
   "source": [
    "### Quality check #5 - at least one pollutant given for each lps"
   ]
  },
  {
   "cell_type": "code",
   "execution_count": null,
   "metadata": {},
   "outputs": [],
   "source": [
    "%%sql sqlite:///data/prtr_en.db test_5 <<\n",
    "    SELECT substance_name, annual_load FROM releases\n",
    "    WHERE (substance_name = 'Nitrogen oxides (NOx/NO2)' and annual_load = 0)\n",
    "    OR  (substance_name = 'Non-methane volatile organic compounds (NMVOC)' and annual_load = 0)\n",
    "    OR (substance_name = 'Sulphur oxides (SOx/SO2)' and annual_load = 0)\n",
    "    OR (substance_name = 'Ammonia (NH3)' and annual_load = 0)\n",
    "    OR (substance_name = 'Particulate matter (PM2.5)' and annual_load = 0)\n",
    "    OR (substance_name = 'Particulate matter (PM10)' and annual_load = 0)\n",
    "    OR (substance_name = 'Carbon monoxide (CO)' and annual_load = 0)\n",
    "    OR (substance_name = 'Lead and compounds (as Pb)' and annual_load = 0) \n",
    "    OR (substance_name = 'Cadmium and compounds (as Cd)' and annual_load = 0) \n",
    "    OR (substance_name = 'Mercury and compounds (as Hg)' and annual_load = 0) \n",
    "    OR (substance_name = 'PCDD + PCDF (dioxins + furans)(as Teq)' and annual_load = 0) \n",
    "    OR (substance_name = 'Polycyclic aromatic hydrocarbons (PAHs)' and annual_load = 0) \n",
    "    OR (substance_name = 'Hexachlorobenzene (HCB)' and annual_load = 0) \n",
    "    OR (substance_name = 'Polychlorinated biphenyls (PCBs)' and annual_load = 0)"
   ]
  },
  {
   "cell_type": "code",
   "execution_count": null,
   "metadata": {},
   "outputs": [],
   "source": [
    "# if the result of the query is empty then the test is passed"
   ]
  },
  {
   "cell_type": "code",
   "execution_count": null,
   "metadata": {},
   "outputs": [],
   "source": [
    "test_5"
   ]
  },
  {
   "cell_type": "markdown",
   "metadata": {},
   "source": [
    "### Quality check #6 - coordinates inside German borders"
   ]
  },
  {
   "attachments": {
    "Germany_latitude_and_longitude.gif": {
     "image/gif": "[encoded data removed]"
    }
   },
   "cell_type": "markdown",
   "metadata": {},
   "source": [
    "![Germany_latitude_and_longitude.gif](attachment:Germany_latitude_and_longitude.gif)"
   ]
  },
  {
   "cell_type": "markdown",
   "metadata": {},
   "source": [
    "reference: http://www.digikaart.nl/deutschlandkarte-mit-langen-und-breitengraden.html"
   ]
  },
  {
   "cell_type": "code",
   "execution_count": null,
   "metadata": {},
   "outputs": [],
   "source": [
    "%%sql sqlite:///data/prtr_en.db test_6 <<\n",
    "    SELECT wgs84_x, wgs84_y, city, postcode, name\n",
    "    FROM facilities \n",
    "    WHERE (wgs84_x < 6 AND wgs84_x > 15) AND (wgs84_y > 55 AND wgs84_y < 47) \n",
    "    GROUP BY city \n",
    "    ORDER BY wgs84_x, wgs84_y"
   ]
  },
  {
   "cell_type": "code",
   "execution_count": null,
   "metadata": {},
   "outputs": [],
   "source": [
    "test_6"
   ]
  },
  {
   "cell_type": "code",
   "execution_count": null,
   "metadata": {},
   "outputs": [],
   "source": [
    "# the method is not very precise, but it is possible to manually check the areas bordering Germany"
   ]
  },
  {
   "cell_type": "markdown",
   "metadata": {},
   "source": [
    "### Quality check #7 - combination of coordinates is unique"
   ]
  },
  {
   "cell_type": "code",
   "execution_count": null,
   "metadata": {},
   "outputs": [],
   "source": [
    "# the query should count the GROUP BY results and can thus display duplicate values"
   ]
  },
  {
   "cell_type": "code",
   "execution_count": null,
   "metadata": {},
   "outputs": [],
   "source": [
    "%%sql sqlite:///data/prtr_en.db test_7 <<\n",
    "    SELECT wgs84_x, wgs84_y, name, COUNT(*)\n",
    "    FROM facilities\n",
    "    GROUP BY wgs84_x, wgs84_y, name\n",
    "    HAVING COUNT(*)>1 "
   ]
  },
  {
   "cell_type": "code",
   "execution_count": null,
   "metadata": {},
   "outputs": [],
   "source": [
    "test_7"
   ]
  },
  {
   "cell_type": "markdown",
   "metadata": {},
   "source": [
    "### Quality check #8 - Sanitize plant names"
   ]
  },
  {
   "cell_type": "code",
   "execution_count": null,
   "metadata": {},
   "outputs": [],
   "source": [
    "%%sql sqlite:///data/prtr_en.db test_8_1 <<\n",
    "    SELECT name from facilities\n",
    "    WHERE name LIKE '%;%'"
   ]
  },
  {
   "cell_type": "code",
   "execution_count": null,
   "metadata": {},
   "outputs": [],
   "source": [
    "test_8_1"
   ]
  },
  {
   "cell_type": "code",
   "execution_count": null,
   "metadata": {},
   "outputs": [],
   "source": [
    "%%sql sqlite:///data/prtr_en.db test_8_1_replace_semicolon <<\n",
    "    UPDATE facilities set name = replace(name, ';', '')"
   ]
  },
  {
   "cell_type": "code",
   "execution_count": null,
   "metadata": {},
   "outputs": [],
   "source": [
    "%%sql sqlite:///data/prtr_en.db test_8_1 <<\n",
    "    SELECT name from facilities\n",
    "    WHERE name LIKE '%;%'"
   ]
  },
  {
   "cell_type": "code",
   "execution_count": null,
   "metadata": {},
   "outputs": [],
   "source": [
    "# nothing should be returned after sanitazing\n",
    "test_8_1"
   ]
  },
  {
   "cell_type": "code",
   "execution_count": null,
   "metadata": {},
   "outputs": [],
   "source": [
    "%%sql sqlite:///data/prtr_en.db test_8_2 <<\n",
    "    SELECT name from facilities\n",
    "    WHERE name LIKE '%#%'"
   ]
  },
  {
   "cell_type": "code",
   "execution_count": null,
   "metadata": {},
   "outputs": [],
   "source": [
    "test_8_2"
   ]
  },
  {
   "cell_type": "code",
   "execution_count": null,
   "metadata": {},
   "outputs": [],
   "source": [
    "%%sql sqlite:///data/prtr_en.db test_8_3 <<\n",
    "    SELECT name from facilities\n",
    "    WHERE name LIKE '%$%'"
   ]
  },
  {
   "cell_type": "code",
   "execution_count": null,
   "metadata": {},
   "outputs": [],
   "source": [
    "test_8_3"
   ]
  },
  {
   "cell_type": "code",
   "execution_count": null,
   "metadata": {},
   "outputs": [],
   "source": [
    "%%sql sqlite:///data/prtr_en.db test_8_4 <<\n",
    "    SELECT name from facilities\n",
    "    WHERE name LIKE '%?%'"
   ]
  },
  {
   "cell_type": "code",
   "execution_count": null,
   "metadata": {},
   "outputs": [],
   "source": [
    "test_8_4"
   ]
  },
  {
   "cell_type": "code",
   "execution_count": null,
   "metadata": {},
   "outputs": [],
   "source": [
    "%%sql sqlite:///data/prtr_en.db test_8_4 <<\n",
    "    SELECT name from facilities\n",
    "    WHERE name LIKE '%%%'"
   ]
  },
  {
   "cell_type": "markdown",
   "metadata": {},
   "source": [
    "### Quality check #09 - TSP > PM10 >PM2.5 >BC"
   ]
  },
  {
   "cell_type": "code",
   "execution_count": null,
   "metadata": {},
   "outputs": [],
   "source": [
    "# there is no Black carbon (BC), no PM2.5 and no TSP in the database"
   ]
  },
  {
   "cell_type": "markdown",
   "metadata": {},
   "source": [
    "### Quality check #10 - PM (Particulate Matter) > HM (Heavy Metals)"
   ]
  },
  {
   "cell_type": "code",
   "execution_count": null,
   "metadata": {},
   "outputs": [],
   "source": [
    "%%sql sqlite:///data/prtr_en.db test_10_SUM_PM10 <<\n",
    "    SELECT substance_name, SUM(annual_load) from releases\n",
    "    WHERE substance_name = 'Particulate matter (PM10)' "
   ]
  },
  {
   "cell_type": "code",
   "execution_count": null,
   "metadata": {},
   "outputs": [],
   "source": [
    "test_10_SUM_PM10"
   ]
  },
  {
   "cell_type": "code",
   "execution_count": null,
   "metadata": {},
   "outputs": [],
   "source": [
    "%%sql sqlite:///data/prtr_en.db test_10_SUM_Pb <<\n",
    "    SELECT substance_name, SUM(annual_load) from releases\n",
    "    WHERE substance_name = 'Lead and compounds (as Pb)' "
   ]
  },
  {
   "cell_type": "code",
   "execution_count": null,
   "metadata": {},
   "outputs": [],
   "source": [
    "test_10_SUM_Pb"
   ]
  },
  {
   "cell_type": "code",
   "execution_count": null,
   "metadata": {},
   "outputs": [],
   "source": [
    "%%sql sqlite:///data/prtr_en.db test_10_SUM_Cd <<\n",
    "    SELECT SUM(annual_load) from releases\n",
    "    WHERE substance_name = 'Cadmium and compounds (as Cd)' "
   ]
  },
  {
   "cell_type": "code",
   "execution_count": null,
   "metadata": {},
   "outputs": [],
   "source": [
    "test_10_SUM_Cd"
   ]
  },
  {
   "cell_type": "code",
   "execution_count": null,
   "metadata": {},
   "outputs": [],
   "source": [
    "%%sql sqlite:///data/prtr_en.db test_10_SUM_Hg <<\n",
    "    SELECT SUM(annual_load) from releases\n",
    "    WHERE substance_name = 'Mercury and compounds (as Hg)'"
   ]
  },
  {
   "cell_type": "code",
   "execution_count": null,
   "metadata": {},
   "outputs": [],
   "source": [
    "test_10_SUM_Hg"
   ]
  },
  {
   "cell_type": "markdown",
   "metadata": {},
   "source": [
    "### quality check 13 - general data validation checks like replacing 'O' with 0"
   ]
  },
  {
   "cell_type": "code",
   "execution_count": null,
   "metadata": {},
   "outputs": [],
   "source": [
    "%%sql sqlite:///data/prtr_en.db test_13 <<\n",
    "    SELECT id, facility_id, year, annual_load FROM releases\n",
    "    WHERE annual_load LIKE 'O' OR id LIKE 'O' OR year LIKE 'O' OR annual_load LIKE 'O'"
   ]
  },
  {
   "cell_type": "code",
   "execution_count": null,
   "metadata": {},
   "outputs": [],
   "source": [
    "# if the query returns no values, the test is passed"
   ]
  },
  {
   "cell_type": "code",
   "execution_count": null,
   "metadata": {},
   "outputs": [],
   "source": [
    "test_13"
   ]
  },
  {
   "cell_type": "markdown",
   "metadata": {},
   "source": [
    "### quality check 14 - for each LPS coordinates should be given"
   ]
  },
  {
   "cell_type": "code",
   "execution_count": null,
   "metadata": {},
   "outputs": [],
   "source": [
    "%%sql sqlite:///data/prtr_en.db test_14 <<\n",
    "    SELECT name, wgs84_x, wgs84_y FROM facilities\n",
    "    WHERE wgs84_x = 0 OR wgs84_y = 0"
   ]
  },
  {
   "cell_type": "code",
   "execution_count": null,
   "metadata": {},
   "outputs": [],
   "source": [
    "# if the query returns no values, the test is passed"
   ]
  },
  {
   "cell_type": "code",
   "execution_count": null,
   "metadata": {},
   "outputs": [],
   "source": [
    "test_14"
   ]
  }
 ],
 "metadata": {
  "kernelspec": {
   "display_name": "Python 3",
   "language": "python",
   "name": "python3"
  },
  "language_info": {
   "codemirror_mode": {
    "name": "ipython",
    "version": 3
   },
   "file_extension": ".py",
   "mimetype": "text/x-python",
   "name": "python",
   "nbconvert_exporter": "python",
   "pygments_lexer": "ipython3",
   "version": "3.8.5"
  }
 },
 "nbformat": 4,
 "nbformat_minor": 4
}
