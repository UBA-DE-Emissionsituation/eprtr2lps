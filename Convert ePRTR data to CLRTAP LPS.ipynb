{
 "cells": [
  {
   "cell_type": "code",
   "execution_count": null,
   "metadata": {},
   "outputs": [],
   "source": [
    "from pandas import DataFrame\n",
    "\n",
    "# This workbook needs ipython-sql to work, use 'pip install ipython-sql' for install\n",
    "%load_ext sql"
   ]
  },
  {
   "cell_type": "code",
   "execution_count": null,
   "metadata": {
    "scrolled": true
   },
   "outputs": [],
   "source": [
    "year = '2018'"
   ]
  },
  {
   "cell_type": "code",
   "execution_count": null,
   "metadata": {},
   "outputs": [],
   "source": [
    "%%sql sqlite:///data/prtr_en.db sql_query_result << \n",
    "SELECT\n",
    "    name AS 'LPS',\n",
    "    business_sector AS 'Business sector',\n",
    "    prtr_key AS 'PRTR activity',\n",
    "    nace_code || ': ' || nace_text AS 'NACE)',\n",
    "    'TODO' AS 'GNFR',\n",
    "    administrative_number AS 'E-PRTR/PRTR Facility ID',\n",
    "    'TODO' AS 'Height class',\n",
    "    wgs84_x AS 'Longitude', wgs84_y AS 'Latitude',\n",
    "    SUM(annual_load / 1000000) FILTER (WHERE substance_name = 'Nitrogen oxides (NOx/NO2)') AS 'NOx (as NO2) [kt]',\n",
    "    SUM(annual_load / 1000000) FILTER (WHERE substance_name = 'Sulphur oxides (SOx/SO2)') AS 'SOx (as SO2) [kt]',\n",
    "    SUM(annual_load / 1000000) FILTER (WHERE substance_name = 'Non-methane volatile organic compounds (NMVOC)') AS 'NMVOC [kt]',\n",
    "    SUM(annual_load / 1000000) FILTER (WHERE substance_name = 'Ammonia (NH3)') AS 'NH3 [kt]',\n",
    "    SUM(annual_load / 1000000) FILTER (WHERE substance_name = 'Particulate matter (PM2.5)') AS 'PM2.5 [kt]',\n",
    "    SUM(annual_load / 1000000) FILTER (WHERE substance_name = 'Particulate matter (PM10)') AS 'PM10 [kt]',\n",
    "    SUM(annual_load / 1000000) FILTER (WHERE substance_name = 'Carbon monoxide (CO)') AS 'CO [kt]',\n",
    "    SUM(annual_load / 1000) FILTER (WHERE substance_name = 'Lead and compounds (as Pb)') AS 'Pb [t]',\n",
    "    SUM(annual_load / 1000) FILTER (WHERE substance_name = 'Cadmium and compounds (as Cd)') AS 'Cd [t]',\n",
    "    SUM(annual_load / 1000) FILTER (WHERE substance_name = 'Mercury and compounds (as Hg)') AS 'Hg [t]',\n",
    "    SUM(annual_load * 1000) FILTER (WHERE substance_name = 'PCDD + PCDF (dioxins + furans) (as Teq)') AS 'PCDD/ PCDF (dioxins/ furans) [g I-Teq]',\n",
    "    SUM(annual_load / 1000) FILTER (WHERE substance_name = 'Polycyclic aromatic hydrocarbons (PAHs)') AS 'PAHs [t]',\n",
    "    SUM(annual_load) FILTER (WHERE substance_name = 'Hexachlorobenzene (HCB)') AS 'HCB [kg]',\n",
    "    SUM(annual_load) FILTER (WHERE substance_name = 'Polychlorinated biphenyls (PCBs)') AS 'PCBs [kg]'\n",
    "FROM facilities\n",
    "    INNER JOIN activities ON facilities.id = activities.facility_id\n",
    "    INNER JOIN releases ON facilities.id = releases.facility_id\n",
    "WHERE facilities.year = :year and releases.compartment = 'Air' and activities.main_activity = True\n",
    "GROUP BY facilities.id\n",
    "ORDER BY name"
   ]
  },
  {
   "cell_type": "code",
   "execution_count": null,
   "metadata": {},
   "outputs": [],
   "source": [
    "data = sql_query_result.DataFrame().fillna(\"\")"
   ]
  },
  {
   "cell_type": "code",
   "execution_count": null,
   "metadata": {},
   "outputs": [],
   "source": [
    "data.to_csv('output/Convert ePRTR data to CLRTAP LPS.csv', sep='|', index=False, columns=['LPS', 'GNFR'])"
   ]
  }
 ],
 "metadata": {
  "kernelspec": {
   "display_name": "Python 3",
   "language": "python",
   "name": "python3"
  },
  "language_info": {
   "codemirror_mode": {
    "name": "ipython",
    "version": 3
   },
   "file_extension": ".py",
   "mimetype": "text/x-python",
   "name": "python",
   "nbconvert_exporter": "python",
   "pygments_lexer": "ipython3",
   "version": "3.7.6"
  }
 },
 "nbformat": 4,
 "nbformat_minor": 4
}
