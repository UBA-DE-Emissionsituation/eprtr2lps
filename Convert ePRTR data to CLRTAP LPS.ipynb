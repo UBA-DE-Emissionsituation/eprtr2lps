{
 "cells": [
  {
   "cell_type": "code",
   "execution_count": null,
   "metadata": {
    "scrolled": true
   },
   "outputs": [],
   "source": [
    "import sqlite3 as sql3\n",
    "import pandas as pd\n",
    "from pandas import DataFrame\n",
    "\n",
    "# create the connection object - you will then get a connection object “conn”, which represents the connection to the database\n",
    "# the connect-function takes in a string with the relative or the absolute path to the database\n",
    "\n",
    "conn = sql3.connect('data/prtr_en.db')"
   ]
  },
  {
   "cell_type": "code",
   "execution_count": null,
   "metadata": {},
   "outputs": [],
   "source": [
    "# in order to convert the sql-query in a dataframe you can use the read_sql_query function\n",
    "\n",
    "data = pd.read_sql_query(\"\"\"\n",
    "SELECT f.name AS LPS, a.business_sector AS GNFR, a.prtr_key AS PRTR,  \n",
    "f.administrative_number AS 'E-PRTR/ PRTR Facility ID', f.wgs84_x AS 'Longitude (deg)', f.wgs84_y AS 'Latitude (deg)',\n",
    "\n",
    "SUM(r.annual_load/1000000) FILTER (WHERE substance_name = 'Nitrogen oxides (NOx/NO2)') AS \"NOx/NO2 (kt)\",\n",
    "SUM(r.annual_load/1000000) FILTER (WHERE substance_name = 'Non-methane volatile organic compounds (NMVOC)') AS \"(NMVOC) (kt)\",\n",
    "SUM(r.annual_load/1000000) FILTER (WHERE substance_name = 'Sulphur oxides (SOx/SO2)') AS \"SOx/SO2 (kt)\",\n",
    "SUM(r.annual_load/1000000) FILTER (WHERE substance_name = 'Ammonia (NH3)') AS \"NH3 (kt)\",\n",
    "SUM(r.annual_load/1000000) FILTER (WHERE substance_name = 'Particulate matter (PM2.5)') AS \"PM2.5 (kt)\",\n",
    "SUM(r.annual_load/1000000) FILTER (WHERE substance_name = 'Particulate matter (PM10)') AS \"PM10 (kt\",\n",
    "SUM(r.annual_load/1000000) FILTER (WHERE substance_name = 'Carbon monoxide (CO)') AS \"CO (kt)\",\n",
    "SUM(r.annual_load/1000) FILTER (WHERE substance_name = 'Lead and compounds (as Pb)') AS \"Pb (t)\",\n",
    "SUM(r.annual_load/1000) FILTER (WHERE substance_name = 'Cadmium and compounds (as Cd)') AS \"Cd (t)\",\n",
    "SUM(r.annual_load/1000) FILTER (WHERE substance_name = 'Mercury and compounds (as Hg)') AS \"Hg (t)\",\n",
    "SUM(r.annual_load*1000) FILTER (WHERE substance_name = 'PCDD + PCDF (dioxins + furans)(as Teq)') \n",
    "AS \"PCDD/ PCDF (dioxins/ furans)(g I-Teq)\",\n",
    "SUM(r.annual_load/1000) FILTER (WHERE substance_name = 'Polycyclic aromatic hydrocarbons (PAHs)') AS \"PAHs (t)\",\n",
    "SUM(r.annual_load) FILTER (WHERE substance_name = 'Hexachlorobenzene (HCB)') AS \"HCB (kg)\",\n",
    "SUM(r.annual_load) FILTER (WHERE substance_name = 'Polychlorinated biphenyls') AS \"PCBs (kg)\"\n",
    "\n",
    "FROM facilities AS f\n",
    "JOIN releases AS r ON f.id = r.facility_ID\n",
    "JOIN activities AS a USING (facility_ID)\n",
    "\n",
    "WHERE a.year = '2015' AND r.compartment = 'Air' AND a.main_activity = 1\n",
    "GROUP BY f.id\n",
    "ORDER BY name\n",
    "\n",
    "\"\"\", conn)\n",
    "conn.close()\n",
    "data"
   ]
  },
  {
   "cell_type": "code",
   "execution_count": null,
   "metadata": {},
   "outputs": [],
   "source": [
    "data = data.fillna(\"\")\n",
    "data = data.head(10)\n",
    "data"
   ]
  },
  {
   "cell_type": "code",
   "execution_count": null,
   "metadata": {},
   "outputs": [],
   "source": [
    "data = data.to_csv('output/Convert ePRTR data to CLRTAP LPS.csv', index=False)"
   ]
  }
 ],
 "metadata": {
  "kernelspec": {
   "display_name": "Python 3",
   "language": "python",
   "name": "python3"
  },
  "language_info": {
   "codemirror_mode": {
    "name": "ipython",
    "version": 3
   },
   "file_extension": ".py",
   "mimetype": "text/x-python",
   "name": "python",
   "nbconvert_exporter": "python",
   "pygments_lexer": "ipython3",
   "version": "3.7.6"
  },
  "varInspector": {
   "cols": {
    "lenName": 16,
    "lenType": 16,
    "lenVar": 40
   },
   "kernels_config": {
    "python": {
     "delete_cmd_postfix": "",
     "delete_cmd_prefix": "del ",
     "library": "var_list.py",
     "varRefreshCmd": "print(var_dic_list())"
    },
    "r": {
     "delete_cmd_postfix": ") ",
     "delete_cmd_prefix": "rm(",
     "library": "var_list.r",
     "varRefreshCmd": "cat(var_dic_list()) "
    }
   },
   "types_to_exclude": [
    "module",
    "function",
    "builtin_function_or_method",
    "instance",
    "_Feature"
   ],
   "window_display": false
  }
 },
 "nbformat": 4,
 "nbformat_minor": 4
}
