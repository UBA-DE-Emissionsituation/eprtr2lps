{
 "cells": [
  {
   "cell_type": "code",
   "execution_count": null,
   "metadata": {},
   "outputs": [],
   "source": [
    "# import DataFrame from pandas in order to convert the sql query in a DataFrame\n",
    "from pandas import DataFrame"
   ]
  },
  {
   "cell_type": "code",
   "execution_count": null,
   "metadata": {},
   "outputs": [],
   "source": [
    "# The ipython-sql library is loaded using the %load_ext iPython extension\n",
    "%load_ext sql"
   ]
  },
  {
   "cell_type": "code",
   "execution_count": null,
   "metadata": {},
   "outputs": [],
   "source": [
    "year = '2018'"
   ]
  },
  {
   "cell_type": "code",
   "execution_count": null,
   "metadata": {},
   "outputs": [],
   "source": [
    "%%sql sqlite:///data/prtr_en.db sql_query_result << \n",
    "\n",
    "SELECT \n",
    "    facilities.name AS LPS, \n",
    "    activities.business_sector AS business_sector, \n",
    "    activities.prtr_key AS 'PRTR activity',\n",
    "    nace_code || ': ' || nace_text AS 'NACE',\n",
    "    'TODO' AS 'GNFR', \n",
    "    facilities.administrative_number AS 'E-PRTR/PRTR Facility ID', \n",
    "    'TODO' AS 'Height class',\n",
    "    facilities.wgs84_x AS 'Longitude (deg)', \n",
    "    facilities.wgs84_y AS 'Latitude (deg)',\n",
    "\n",
    "    SUM(releases.annual_load/1000000) FILTER (WHERE substance_name = 'Nitrogen oxides (NOx/NO2)') AS \"NOx (as NO2) (kt)\",\n",
    "    SUM(releases.annual_load/1000000) FILTER (WHERE substance_name = 'Non-methane volatile organic compounds (NMVOC)') \n",
    "    AS \"NMVOC (kt)\",\n",
    "    SUM(releases.annual_load/1000000) FILTER (WHERE substance_name = 'Sulphur oxides (SOx/SO2)') AS \"SOx (as SO2) (kt)\",\n",
    "    SUM(releases.annual_load/1000000) FILTER (WHERE substance_name = 'Ammonia (NH3)') AS \"NH3 (kt)\",\n",
    "    SUM(releases.annual_load/1000000) FILTER (WHERE substance_name = 'Particulate matter (PM2.5)') AS \"PM2.5 (kt)\",\n",
    "    SUM(releases.annual_load/1000000) FILTER (WHERE substance_name = 'Particulate matter (PM10)') AS \"PM10 (kt)\",\n",
    "    SUM(releases.annual_load/1000000) FILTER (WHERE substance_name = 'Carbon monoxide (CO)') AS \"CO (kt)\",\n",
    "    SUM(releases.annual_load/1000) FILTER (WHERE substance_name = 'Lead and compounds (as Pb)') AS \"Pb (t)\",\n",
    "    SUM(releases.annual_load/1000) FILTER (WHERE substance_name = 'Cadmium and compounds (as Cd)') AS \"Cd (t)\",\n",
    "    SUM(releases.annual_load/1000) FILTER (WHERE substance_name = 'Mercury and compounds (as Hg)') AS \"Hg (t)\",\n",
    "    SUM(releases.annual_load*1000) FILTER (WHERE substance_name = 'PCDD + PCDF (dioxins + furans)(as Teq)') \n",
    "    AS \"PCDD/ PCDF (dioxins/ furans)(g I-Teq)\",\n",
    "    SUM(releases.annual_load/1000) FILTER (WHERE substance_name = 'Polycyclic aromatic hydrocarbons (PAHs)') AS \"PAHs (t)\",\n",
    "    SUM(releases.annual_load) FILTER (WHERE substance_name = 'Hexachlorobenzene (HCB)') AS \"HCB (kg)\",\n",
    "    SUM(releases.annual_load) FILTER (WHERE substance_name = 'Polychlorinated biphenyls') AS \"PCBs (kg)\"\n",
    "\n",
    "FROM facilities\n",
    "    JOIN releases ON facilities.id = releases.facility_ID\n",
    "    JOIN activities ON releases.facility_ID = activities.facility_ID\n",
    "\n",
    "WHERE facilities.year = :year AND releases.compartment = 'Air' AND activities.main_activity = 1\n",
    "GROUP BY facilities.id\n",
    "ORDER BY name"
   ]
  },
  {
   "cell_type": "code",
   "execution_count": null,
   "metadata": {},
   "outputs": [],
   "source": [
    "data = sql_query_result.DataFrame().fillna(\"\")\n",
    "data"
   ]
  },
  {
   "cell_type": "code",
   "execution_count": null,
   "metadata": {},
   "outputs": [],
   "source": [
    "data.to_csv('output/Convert ePRTR data to CLRTAP LPS.csv', sep='|', index=False, columns=['LPS', 'GNFR', 'E-PRTR/PRTR Facility ID', 'Height class', 'Longitude (deg)', 'Latitude (deg)', 'NOx (as NO2) (kt)', 'NMVOC (kt)', 'SOx (as SO2) (kt)', 'NH3 (kt)', 'PM2.5 (kt)', 'PM10 (kt)', 'CO (kt)', 'Pb (t)', 'Cd (t)', 'Hg (t)', 'PCDD/ PCDF (dioxins/ furans)(g I-Teq)', 'PAHs (t)', 'HCB (kg)', 'PCBs (kg)'])"
   ]
  }
 ],
 "metadata": {
  "kernelspec": {
   "display_name": "Python 3",
   "language": "python",
   "name": "python3"
  },
  "language_info": {
   "codemirror_mode": {
    "name": "ipython",
    "version": 3
   },
   "file_extension": ".py",
   "mimetype": "text/x-python",
   "name": "python",
   "nbconvert_exporter": "python",
   "pygments_lexer": "ipython3",
   "version": "3.7.6"
  }
 },
 "nbformat": 4,
 "nbformat_minor": 4
}
