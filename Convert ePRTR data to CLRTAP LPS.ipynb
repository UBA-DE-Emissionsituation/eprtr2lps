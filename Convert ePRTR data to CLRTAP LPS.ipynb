{
 "cells": [
  {
   "cell_type": "code",
   "execution_count": null,
   "metadata": {},
   "outputs": [],
   "source": [
    "import sqlite3 as sql3\n",
    "import pandas as pd\n",
    "from pandas import DataFrame\n",
    "\n",
    "# create the connection object - you will then get a connection object “conn”, which represents the connection to the database\n",
    "# the connect-function takes in a string with the relative or the absolute path to the database\n",
    "\n",
    "conn = sql3.connect('data/prtr_en.db')"
   ]
  },
  {
   "cell_type": "code",
   "execution_count": null,
   "metadata": {},
   "outputs": [],
   "source": [
    "# in order to convert the sql-query in a dataframe you can use the read_sql_query function\n",
    "\n",
    "data = pd.read_sql_query(\"\"\"\n",
    "SELECT f.name AS LPS, a.prtr_key AS PRTR, a.business_sector AS GNFR, \n",
    "f.administrative_number AS E_PRTR_ID, f.wgs84_x AS Longitude, f.wgs84_y AS Latitude,\n",
    "\n",
    "SUM(r.annual_load/1000000) FILTER (WHERE substance_name = 'Nitrogen oxides (NOx/NO2)') AS \"NOx/NO2 (kt)\",\n",
    "SUM(r.annual_load/1000000) FILTER (WHERE substance_name = 'Non-methane volatile organic compounds (NMVOC)') \n",
    "AS \"Non-methane volatile organic compounds (NMVOC) (kt)\",\n",
    "SUM(r.annual_load/1000000) FILTER (WHERE substance_name = 'Sulphur oxides (SOx/SO2)') AS \"SOx/SO2 (kt)\",\n",
    "SUM(r.annual_load/1000000) FILTER (WHERE substance_name = 'Ammonia (NH3)') AS \"NH3 (kt)\",\n",
    "SUM(r.annual_load/1000000) FILTER (WHERE substance_name = 'Particulate matter (PM2.5)') AS \"PM2.5 (kt)\",\n",
    "SUM(r.annual_load/1000000) FILTER (WHERE substance_name = 'Particulate matter (PM10)') AS \"PM10 (kt\",\n",
    "SUM(r.annual_load/1000000) FILTER (WHERE substance_name = 'Carbon monoxide (CO)') AS \"CO (kt)\",\n",
    "SUM(r.annual_load/1000) FILTER (WHERE substance_name = 'Lead and compounds (as Pb)') AS \"Pb (t)\",\n",
    "SUM(r.annual_load/1000) FILTER (WHERE substance_name = 'Cadmium and compounds (as Cd)') AS \"Cd (t)\",\n",
    "SUM(r.annual_load/1000) FILTER (WHERE substance_name = 'Mercury and compounds (as Hg)') AS \"Hg (t)\",\n",
    "SUM(r.annual_load*1000) FILTER (WHERE substance_name = 'PCDD + PCDF (dioxins + furans)(as Teq)') \n",
    "AS \"PCDD/ PCDF (dioxins/ furans)(g I-Teq)\",\n",
    "SUM(r.annual_load/1000) FILTER (WHERE substance_name = 'Polycyclic aromatic hydrocarbons (PAHs)') AS \"PAHs (t)\",\n",
    "SUM(r.annual_load) FILTER (WHERE substance_name = 'Hexachlorobenzene (HCB)') AS \"HCB (kg)\",\n",
    "SUM(r.annual_load) FILTER (WHERE substance_name = 'Polychlorinated biphenyls') AS \"PCBs (kg)\"\n",
    "\n",
    "FROM facilities AS f\n",
    "JOIN releases AS r ON f.id = r.facility_ID\n",
    "JOIN activities AS a USING (facility_ID)\n",
    "\n",
    "WHERE f.year = '2015' AND r.compartment = 'Air' AND a.main_activity = 1\n",
    "GROUP BY f.id\n",
    "ORDER BY name\n",
    "\n",
    "\"\"\", conn)\n",
    "data"
   ]
  },
  {
   "cell_type": "code",
   "execution_count": null,
   "metadata": {},
   "outputs": [],
   "source": [
    "# to show the first ten results you can use data.head(10) and to replace the \"NaN's\" you can use fillna(\"\")\n",
    "data = data..fillna(\"\")"
    "data.head(10)"
   ]
  },
  {
   "cell_type": "code",
   "execution_count": null,
   "metadata": {},
   "outputs": [],
   "source": [
    "# data export into a csv file,  Index=false is used to clean up your data\n",
    "data.to_csv('output/Convert ePRTR data to CLRTAP LPS.csv', index=False)"
   ]
  },
  {
   "cell_type": "code",
   "execution_count": null,
   "metadata": {},
   "outputs": [],
   "source": [
    "# don't forget to close the database connection:\n",
    "conn.close()"
   ]
  }
 ],
 "metadata": {
  "kernelspec": {
   "display_name": "Python 3",
   "language": "python",
   "name": "python3"
  },
  "language_info": {
   "codemirror_mode": {
    "name": "ipython",
    "version": 3
   },
   "file_extension": ".py",
   "mimetype": "text/x-python",
   "name": "python",
   "nbconvert_exporter": "python",
   "pygments_lexer": "ipython3",
   "version": "3.7.6"
  }
 },
 "nbformat": 4,
 "nbformat_minor": 4
}
