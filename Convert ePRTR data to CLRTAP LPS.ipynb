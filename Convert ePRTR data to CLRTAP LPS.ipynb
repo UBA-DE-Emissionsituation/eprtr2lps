{
 "cells": [
  {
   "cell_type": "code",
   "execution_count": null,
   "metadata": {},
   "outputs": [],
   "source": [
    "import sqlite3 as sql3"
   ]
  },
  {
   "cell_type": "code",
   "execution_count": null,
   "metadata": {},
   "outputs": [],
   "source": [
    "# create the connection object\n",
    "conn = sql3.connect('data/prtr_en.db')"
   ]
  },
  {
   "cell_type": "code",
   "execution_count": null,
   "metadata": {},
   "outputs": [],
   "source": [
    "# you will then get a connection object “conn”, which represents the connection to the database\n",
    "conn"
   ]
  },
  {
   "cell_type": "code",
   "execution_count": null,
   "metadata": {},
   "outputs": [],
   "source": [
    "# you can create a database cursor, using the connection object’s cursor method\n",
    "cursor = conn.execute(\"SELECT id from facilities\")\n",
    "cursor"
   ]
  },
  {
   "cell_type": "code",
   "execution_count": null,
   "metadata": {},
   "outputs": [],
   "source": [
    "import pandas as pd\n",
    "import matplotlib.pyplot as plt\n",
    "import numpy as np\n",
    "from pandas import DataFrame"
   ]
  },
  {
   "cell_type": "code",
   "execution_count": null,
   "metadata": {},
   "outputs": [],
   "source": [
    "# do not run this cell, this is a sql-query\n",
    "\n",
    "SELECT f.name AS LPS, a.business_sector AS GNFR, f.administrative_number AS E_PRTR_ID, f.wgs84_x AS Longitude, f.wgs84_y AS Latitude,\n",
    "\n",
    "SUM( CASE WHEN substance_name = 'Nitrogen oxides (NOx/NO2)' THEN annual_load/1000000 ELSE NULL end)\n",
    "AS  'NOx/NO2 (kt)',\n",
    "SUM( CASE WHEN substance_name = 'Non-methane volatile organic compounds (NMVOC)' THEN annual_load/1000000 ELSE NULL end)\n",
    "AS  'Non-methane volatile organic compounds (NMVOC) (kt)',\n",
    "SUM( CASE WHEN substance_name = 'Sulphur oxides (SOx/SO2)' THEN annual_load/1000000 ELSE NULL end) \n",
    "AS  'SOx/SO2 (kt)',\n",
    "SUM( CASE WHEN substance_name = 'Ammonia (NH3)' THEN annual_load/1000000 ELSE NULL end) \n",
    "AS  'NH3 (kt)',\n",
    "SUM( CASE WHEN substance_name = 'Particulate matter (PM2.5)' THEN annual_load/1000000 ELSE NULL end) \n",
    "AS  'PM2.5 (kt)',\n",
    "SUM( CASE WHEN substance_name = 'Particulate matter (PM10)' THEN annual_load/1000000 ELSE NULL end) \n",
    "AS  'PM10 (kt)',\n",
    "SUM( CASE WHEN substance_name = 'Carbon monoxide (CO)' THEN annual_load/1000000 ELSE NULL end) \n",
    "AS  'CO (kt)',\n",
    "SUM( CASE WHEN substance_name = 'Lead and compounds (as Pb)' THEN annual_load/1000 ELSE NULL end) \n",
    "AS  'Pb (t)',\n",
    "SUM( CASE WHEN substance_name = 'Cadmium and compounds (as Cd)' THEN annual_load/1000 ELSE NULL end) \n",
    "AS  'Cd (t)',\n",
    "SUM( CASE WHEN substance_name = 'Mercury and compounds (as Hg)' THEN annual_load/1000 ELSE NULL end) \n",
    "AS  'Hg (t)',\n",
    "SUM( CASE WHEN substance_name = 'PCDD + PCDF (dioxins + furans)(as Teq)' THEN annual_load*1000 ELSE NULL end) \n",
    "AS  'PCDD/ PCDF (dioxins/ furans)(g I-Teq)',\n",
    "SUM( CASE WHEN substance_name = 'Polycyclic aromatic hydrocarbons (PAHs)' THEN annual_load/1000 ELSE NULL end) \n",
    "AS  'PAHs (t)',\n",
    "SUM( CASE WHEN substance_name = 'Hexachlorobenzene (HCB)' THEN annual_load ELSE NULL end) \n",
    "AS  'HCB (kg)',\n",
    "SUM( CASE WHEN substance_name = 'Polychlorinated biphenyls ' THEN annual_load ELSE NULL end) \n",
    "AS  'PCBs(kg)'\n",
    "                            \n",
    "FROM facilities AS f\n",
    "JOIN releases AS r ON f.id = r.facility_ID\n",
    "JOIN activities AS a USING (facility_ID)\n",
    "\n",
    "WHERE a.year = '2015' AND r.compartment = 'Air' AND main_activity = 1 "
   ]
  },
  {
   "cell_type": "code",
   "execution_count": null,
   "metadata": {},
   "outputs": [],
   "source": [
    "# in order to convert the above-noted sql-query in a dataframe you can use the read_sql_query function\n",
    "\n",
    "data = pd.read_sql_query('SELECT f.name AS LPS, a.business_sector AS GNFR, \\\n",
    "f.administrative_number AS E_PRTR_ID, f.wgs84_x AS Longitude, f.wgs84_y AS Latitude, \\\n",
    "SUM(r.annual_load/1000000) FILTER (WHERE substance_name = \"Nitrogen oxides (NOx/NO2)\") AS \"NOx/NO2 (kt)\", \\\n",
    "SUM(r.annual_load/1000000) FILTER (WHERE substance_name = \"Non-methane volatile organic compounds (NMVOC)\") AS \"Non-methane volatile organic compounds (NMVOC) (kt)\",\\\n",
    "SUM(r.annual_load/1000000) FILTER (WHERE substance_name = \"Sulphur oxides (SOx/SO2)\") AS \"SOx/SO2 (kt)\",\\\n",
    "SUM(r.annual_load/1000000) FILTER (WHERE substance_name = \"Ammonia (NH3)\") AS \"NH3 (kt)\",\\\n",
    "SUM(r.annual_load/1000000) FILTER (WHERE substance_name = \"Particulate matter (PM2.5)\") AS \"PM2.5 (kt)\",\\\n",
    "SUM(r.annual_load/1000000) FILTER (WHERE substance_name = \"Particulate matter (PM10)\") AS \"PM10 (kt)\",\\\n",
    "SUM(r.annual_load/1000000) FILTER (WHERE substance_name = \"Carbon monoxide (CO)\") AS \"CO (kt)\",\\\n",
    "SUM(r.annual_load/1000) FILTER (WHERE substance_name = \"Lead and compounds (as Pb)\") AS \"Pb (t)\",\\\n",
    "SUM(r.annual_load/1000) FILTER (WHERE substance_name = \"Cadmium and compounds (as Cd)\") AS \"Cd (t)\",\\\n",
    "SUM(r.annual_load/1000) FILTER (WHERE substance_name = \"Mercury and compounds (as Hg)\") AS \"Hg (t)\",\\\n",
    "SUM(r.annual_load*1000) FILTER (WHERE substance_name = \"PCDD + PCDF (dioxins + furans)(as Teq)\") AS \"PCDD/ PCDF (dioxins/ furans)(g I-Teq)\",\\\n",
    "SUM(r.annual_load/1000) FILTER (WHERE substance_name = \"Polycyclic aromatic hydrocarbons (PAHs)\") AS \"PAHs (t)\",\\\n",
    "SUM(r.annual_load) FILTER (WHERE substance_name = \"Hexachlorobenzene (HCB)\") AS \"HCB (kg)\",\\\n",
    "SUM(r.annual_load) FILTER (WHERE substance_name = \"Polychlorinated biphenyls\") AS \"PCBs (kg)\"\\\n",
    "FROM facilities AS f \\\n",
    "INNER JOIN releases AS r ON f.id = r.facility_ID \\\n",
    "INNER JOIN activities AS a ON r.facility_ID = a.facility_ID \\\n",
    "WHERE a.year = 2015 AND r.compartment = \"Air\" AND a.main_activity = 1', conn)\n",
    "data"
   ]
  },
  {
   "cell_type": "code",
   "execution_count": null,
   "metadata": {},
   "outputs": [],
   "source": [
    "# in order to remove the NaN's you can use fillna()\n",
    "data.fillna('')"
   ]
  },
  {
   "cell_type": "code",
   "execution_count": null,
   "metadata": {},
   "outputs": [],
   "source": [
    "# data export into a csv file\n",
    "data.to_csv('output/LPS_query_data.csv', index=False)"
   ]
  },
  {
   "cell_type": "code",
   "execution_count": null,
   "metadata": {},
   "outputs": [],
   "source": [
    "# don't forget to close the database connection:\n",
    "conn.close()"
   ]
  }
 ],
 "metadata": {
  "kernelspec": {
   "display_name": "Python 3",
   "language": "python",
   "name": "python3"
  },
  "language_info": {
   "codemirror_mode": {
    "name": "ipython",
    "version": 3
   },
   "file_extension": ".py",
   "mimetype": "text/x-python",
   "name": "python",
   "nbconvert_exporter": "python",
   "pygments_lexer": "ipython3",
   "version": "3.7.6"
  }
 },
 "nbformat": 4,
 "nbformat_minor": 4
}
